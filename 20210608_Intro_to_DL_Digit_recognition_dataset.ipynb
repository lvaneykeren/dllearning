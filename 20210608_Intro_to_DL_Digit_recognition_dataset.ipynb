{
  "nbformat": 4,
  "nbformat_minor": 0,
  "metadata": {
    "colab": {
      "name": "20210608 Intro to DL - Digit recognition dataset.ipynb",
      "provenance": [],
      "collapsed_sections": [],
      "include_colab_link": true
    },
    "kernelspec": {
      "name": "python3",
      "display_name": "Python 3"
    },
    "language_info": {
      "name": "python"
    }
  },
  "cells": [
    {
      "cell_type": "markdown",
      "metadata": {
        "id": "view-in-github",
        "colab_type": "text"
      },
      "source": [
        "<a href=\"https://colab.research.google.com/github/lvaneykeren/dllearning/blob/main/20210608_Intro_to_DL_Digit_recognition_dataset.ipynb\" target=\"_parent\"><img src=\"https://colab.research.google.com/assets/colab-badge.svg\" alt=\"Open In Colab\"/></a>"
      ]
    },
    {
      "cell_type": "markdown",
      "metadata": {
        "id": "VO-mqxpInWDN"
      },
      "source": [
        "# Initialize some packages"
      ]
    },
    {
      "cell_type": "code",
      "metadata": {
        "id": "TL9R-6_x8HuJ"
      },
      "source": [
        "from numpy import mean\n",
        "from numpy import std\n",
        "from matplotlib import pyplot\n",
        "from sklearn.model_selection import KFold\n",
        "from keras.datasets import mnist\n",
        "from tensorflow.keras.utils import to_categorical\n",
        "from keras.models import Sequential\n",
        "from keras.layers import Conv2D\n",
        "from keras.layers import MaxPooling2D\n",
        "from keras.layers import Dense\n",
        "from keras.layers import Flatten\n",
        "from keras.optimizers import SGD"
      ],
      "execution_count": null,
      "outputs": []
    },
    {
      "cell_type": "markdown",
      "metadata": {
        "id": "HvWEM7i3nbW1"
      },
      "source": [
        "# Load Dataset"
      ]
    },
    {
      "cell_type": "code",
      "metadata": {
        "id": "1MJNREOTnfLL"
      },
      "source": [
        "# load train and test dataset\n",
        "def load_dataset():\n",
        "\t# load dataset\n",
        "\t(trainX, trainY), (testX, testY) = mnist.load_data()\n",
        "\t# reshape dataset to have a single channel\n",
        "\ttrainX = trainX.reshape((trainX.shape[0], 28, 28, 1))\n",
        "\ttestX = testX.reshape((testX.shape[0], 28, 28, 1))\n",
        "\t# one hot encode target values\n",
        "\ttrainY = to_categorical(trainY)\n",
        "\ttestY = to_categorical(testY)\n",
        "\treturn trainX, trainY, testX, testY"
      ],
      "execution_count": null,
      "outputs": []
    },
    {
      "cell_type": "markdown",
      "metadata": {
        "id": "XuaTR1b52yik"
      },
      "source": [
        "# Normalize our input"
      ]
    },
    {
      "cell_type": "code",
      "metadata": {
        "id": "7NpJrS8O44vV"
      },
      "source": [
        "# scale pixels\n",
        "def prep_pixels(train, test):\n",
        "\t# convert from integers to floats\n",
        "\ttrain_norm = train.astype('float32')\n",
        "\ttest_norm = test.astype('float32')\n",
        "\t# normalize to range 0-1\n",
        "\ttrain_norm = train_norm / 255.0\n",
        "\ttest_norm = test_norm / 255.0\n",
        "\t# return normalized images\n",
        "\treturn train_norm, test_norm"
      ],
      "execution_count": null,
      "outputs": []
    },
    {
      "cell_type": "markdown",
      "metadata": {
        "id": "dvejed_faUUd"
      },
      "source": [
        "#define your network here\n",
        "\n",
        "You can use the following documentation to prepare your network\n",
        "\n",
        "https://www.geeksforgeeks.org/keras-conv2d-class/ -> you only need filters, kernel-size and activation-function and input_shape as parameters for your first version. Later you can play with the other parameters.\n",
        "\n",
        "https://keras.io/api/layers/reshaping_layers/flatten/\n",
        "\n",
        "\n",
        "\n",
        "Make sure you have a convolution layer, a pooling layer and an output layer!\n"
      ]
    },
    {
      "cell_type": "code",
      "metadata": {
        "id": "WB5JrBmVXxrK"
      },
      "source": [
        "# define cnn model\n",
        "def define_model():\n",
        "  #PLEASE PUT YOUR NETWORK HERE!\n",
        "\n",
        "\n",
        "\n",
        "  \n",
        "  # compile model\n",
        "  #opt = SGD(learning_rate=0.01, momentum=0.9)\n",
        "  model.compile(optimizer='adam', loss='categorical_crossentropy', metrics=['accuracy'])\n",
        "  return model"
      ],
      "execution_count": null,
      "outputs": []
    },
    {
      "cell_type": "markdown",
      "metadata": {
        "id": "-qRhp5gm3Qme"
      },
      "source": [
        "Please have a look at the summarization of the model. Can you explain the number of parameteres t each layer?"
      ]
    },
    {
      "cell_type": "code",
      "metadata": {
        "id": "KO9yevTMf97n"
      },
      "source": [
        "define_model().summary()"
      ],
      "execution_count": null,
      "outputs": []
    },
    {
      "cell_type": "markdown",
      "metadata": {
        "id": "Z_pBtqMY3Zao"
      },
      "source": [
        "# Evaluate model"
      ]
    },
    {
      "cell_type": "code",
      "metadata": {
        "id": "BN53NEQl3WxG"
      },
      "source": [
        "trainX, trainY, testX, testY = load_dataset()\n",
        "# prepare pixel data\n",
        "trainX, testX = prep_pixels(trainX, testX)"
      ],
      "execution_count": null,
      "outputs": []
    },
    {
      "cell_type": "markdown",
      "metadata": {
        "id": "KHW_z53c3cUX"
      },
      "source": [
        "Run the code below, if your model is correct, there should be no errors.\n",
        "\n",
        "How are we using cross validation in this example?\n",
        "You can increase the number of folds, but training might take some time\n"
      ]
    },
    {
      "cell_type": "code",
      "metadata": {
        "id": "rCX8mp8z3cwP"
      },
      "source": [
        "n_folds = 2\n",
        "scores, histories = list(), list()\n",
        "# prepare cross validation\n",
        "kfold = KFold(n_folds, shuffle=True, random_state=1)\n",
        "# enumerate splits\n",
        "for train_ix, test_ix in kfold.split(trainX):\n",
        "  # define model\n",
        "  model = define_model()\n",
        "  # select rows for train and test\n",
        "  trainX_cross, trainY_cross, testX_cross, testY_cross = trainX[train_ix], trainY[train_ix], trainX[test_ix], trainY[test_ix]\n",
        "  # fit model\n",
        "  history = model.fit(trainX_cross, trainY_cross, epochs=4, batch_size=32, validation_data=(testX_cross, testY_cross), verbose=1)\n",
        "  # evaluate model\n",
        "  _, acc = model.evaluate(testX_cross, testY_cross, verbose=0)\n",
        "  print('> %.3f' % (acc * 100.0))\n",
        "  # stores scores\n",
        "  scores.append(acc)\n",
        "  histories.append(history)"
      ],
      "execution_count": null,
      "outputs": []
    },
    {
      "cell_type": "markdown",
      "metadata": {
        "id": "S05R8qim3h7L"
      },
      "source": [
        "How do you interprete these images?"
      ]
    },
    {
      "cell_type": "code",
      "metadata": {
        "id": "t2dU1Jfk3iWI"
      },
      "source": [
        "for i in range(len(histories)):\n",
        "  # plot loss\n",
        "  pyplot.subplot(2, 1, 1)\n",
        "  pyplot.title('Cross Entropy Loss')\n",
        "  pyplot.plot(histories[i].history['loss'], color='blue', label='train')\n",
        "  pyplot.plot(histories[i].history['val_loss'], color='orange', label='test')\n",
        "  # plot accuracy\n",
        "  pyplot.subplot(2, 1, 2)\n",
        "  pyplot.title('Classification Accuracy')\n",
        "  pyplot.plot(histories[i].history['accuracy'], color='blue', label='train')\n",
        "  pyplot.plot(histories[i].history['val_accuracy'], color='orange', label='test')\n",
        "pyplot.show()"
      ],
      "execution_count": null,
      "outputs": []
    },
    {
      "cell_type": "code",
      "metadata": {
        "id": "hrR7O9Vt3m5U"
      },
      "source": [
        "# print summary\n",
        "print('Accuracy: mean=%.3f std=%.3f, n=%d' % (mean(scores)*100, std(scores)*100, len(scores)))\n",
        "# box and whisker plots of results\n",
        "pyplot.boxplot(scores)\n",
        "pyplot.show()"
      ],
      "execution_count": null,
      "outputs": []
    }
  ]
}