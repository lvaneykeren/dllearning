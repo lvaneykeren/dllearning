{
  "nbformat": 4,
  "nbformat_minor": 0,
  "metadata": {
    "colab": {
      "name": "20210608 Intro to DL - Digit recognition dataset.ipynb",
      "provenance": [],
      "collapsed_sections": [],
      "include_colab_link": true
    },
    "kernelspec": {
      "name": "python3",
      "display_name": "Python 3"
    },
    "language_info": {
      "name": "python"
    }
  },
  "cells": [
    {
      "cell_type": "markdown",
      "metadata": {
        "id": "view-in-github",
        "colab_type": "text"
      },
      "source": [
        "<a href=\"https://colab.research.google.com/github/lvaneykeren/dllearning/blob/main/20210608_Intro_to_DL_Digit_recognition_dataset.ipynb\" target=\"_parent\"><img src=\"https://colab.research.google.com/assets/colab-badge.svg\" alt=\"Open In Colab\"/></a>"
      ]
    },
    {
      "cell_type": "markdown",
      "metadata": {
        "id": "VO-mqxpInWDN"
      },
      "source": [
        "# Initialize some packages"
      ]
    },
    {
      "cell_type": "code",
      "metadata": {
        "id": "TL9R-6_x8HuJ"
      },
      "source": [
        "from numpy import mean\n",
        "from numpy import std\n",
        "from matplotlib import pyplot\n",
        "from sklearn.model_selection import KFold\n",
        "from keras.datasets import mnist\n",
        "from tensorflow.keras.utils import to_categorical\n",
        "from keras.models import Sequential\n",
        "from keras.layers import Conv2D\n",
        "from keras.layers import MaxPooling2D\n",
        "from keras.layers import Dense\n",
        "from keras.layers import Flatten\n",
        "from keras.optimizers import SGD"
      ],
      "execution_count": 1,
      "outputs": []
    },
    {
      "cell_type": "markdown",
      "metadata": {
        "id": "HvWEM7i3nbW1"
      },
      "source": [
        "# Load Dataset"
      ]
    },
    {
      "cell_type": "code",
      "metadata": {
        "id": "1MJNREOTnfLL"
      },
      "source": [
        "# load train and test dataset\n",
        "def load_dataset():\n",
        "\t# load dataset\n",
        "\t(trainX, trainY), (testX, testY) = mnist.load_data()\n",
        "\t# reshape dataset to have a single channel\n",
        "\ttrainX = trainX.reshape((trainX.shape[0], 28, 28, 1))\n",
        "\ttestX = testX.reshape((testX.shape[0], 28, 28, 1))\n",
        "\t# one hot encode target values\n",
        "\ttrainY = to_categorical(trainY)\n",
        "\ttestY = to_categorical(testY)\n",
        "\treturn trainX, trainY, testX, testY"
      ],
      "execution_count": 2,
      "outputs": []
    },
    {
      "cell_type": "markdown",
      "metadata": {
        "id": "XuaTR1b52yik"
      },
      "source": [
        "# Normalize our input"
      ]
    },
    {
      "cell_type": "code",
      "metadata": {
        "id": "7NpJrS8O44vV"
      },
      "source": [
        "# scale pixels\n",
        "def prep_pixels(train, test):\n",
        "\t# convert from integers to floats\n",
        "\ttrain_norm = train.astype('float32')\n",
        "\ttest_norm = test.astype('float32')\n",
        "\t# normalize to range 0-1\n",
        "\ttrain_norm = train_norm / 255.0\n",
        "\ttest_norm = test_norm / 255.0\n",
        "\t# return normalized images\n",
        "\treturn train_norm, test_norm"
      ],
      "execution_count": 3,
      "outputs": []
    },
    {
      "cell_type": "markdown",
      "metadata": {
        "id": "dvejed_faUUd"
      },
      "source": [
        "#define your network here\n",
        "\n",
        "You can use the following documentation to prepare your network\n",
        "\n",
        "https://www.geeksforgeeks.org/keras-conv2d-class/ -> you only need filters, kernel-size and activation-function and input_shape as parameters for your first version. Later you can play with the other parameters.\n",
        "\n",
        "https://keras.io/api/layers/reshaping_layers/flatten/\n",
        "\n",
        "\n",
        "\n",
        "Make sure you have a convolution layer, a pooling layer and an output layer!\n"
      ]
    },
    {
      "cell_type": "code",
      "metadata": {
        "id": "WB5JrBmVXxrK"
      },
      "source": [
        "# define cnn model\n",
        "def define_model():\n",
        "  #PLEASE PUT YOUR NETWORK HERE!\n",
        "  model = Sequential()\n",
        "  model.add(Conv2D(16, (5, 5), activation=\"relu\", input_shape=(28, 28, 1)))\n",
        "  model.add(MaxPooling2D(pool_size=(2,2)))\n",
        "  model.add(Flatten())\n",
        "  model.add(Dense(10, activation='sigmoid'))\n",
        "  \n",
        "  # compile model\n",
        "  #opt = SGD(learning_rate=0.01, momentum=0.9)\n",
        "  model.compile(optimizer='adam', loss='categorical_crossentropy', metrics=['accuracy'])\n",
        "  return model"
      ],
      "execution_count": 59,
      "outputs": []
    },
    {
      "cell_type": "markdown",
      "metadata": {
        "id": "-qRhp5gm3Qme"
      },
      "source": [
        "Please have a look at the summarization of the model. Can you explain the number of parameteres t each layer?"
      ]
    },
    {
      "cell_type": "code",
      "metadata": {
        "id": "KO9yevTMf97n",
        "outputId": "2b359ef6-18a6-48b7-ccf7-dda6728b2e9c",
        "colab": {
          "base_uri": "https://localhost:8080/"
        }
      },
      "source": [
        "define_model().summary()"
      ],
      "execution_count": 60,
      "outputs": [
        {
          "output_type": "stream",
          "text": [
            "Model: \"sequential_31\"\n",
            "_________________________________________________________________\n",
            "Layer (type)                 Output Shape              Param #   \n",
            "=================================================================\n",
            "conv2d_31 (Conv2D)           (None, 24, 24, 16)        416       \n",
            "_________________________________________________________________\n",
            "max_pooling2d_30 (MaxPooling (None, 12, 12, 16)        0         \n",
            "_________________________________________________________________\n",
            "flatten_30 (Flatten)         (None, 2304)              0         \n",
            "_________________________________________________________________\n",
            "dense_30 (Dense)             (None, 10)                23050     \n",
            "=================================================================\n",
            "Total params: 23,466\n",
            "Trainable params: 23,466\n",
            "Non-trainable params: 0\n",
            "_________________________________________________________________\n"
          ],
          "name": "stdout"
        }
      ]
    },
    {
      "cell_type": "markdown",
      "metadata": {
        "id": "Z_pBtqMY3Zao"
      },
      "source": [
        "# Evaluate model"
      ]
    },
    {
      "cell_type": "code",
      "metadata": {
        "id": "BN53NEQl3WxG"
      },
      "source": [
        "trainX, trainY, testX, testY = load_dataset()\n",
        "# prepare pixel data\n",
        "trainX, testX = prep_pixels(trainX, testX)"
      ],
      "execution_count": 30,
      "outputs": []
    },
    {
      "cell_type": "code",
      "metadata": {
        "id": "pa8Vjs_Iax2L",
        "outputId": "8f56744f-a70c-4f1a-8679-512db53ea9a5",
        "colab": {
          "base_uri": "https://localhost:8080/"
        }
      },
      "source": [
        "print(trainX.shape, trainY.shape, testX.shape, testY.shape)"
      ],
      "execution_count": 31,
      "outputs": [
        {
          "output_type": "stream",
          "text": [
            "(60000, 28, 28, 1) (60000, 10) (10000, 28, 28, 1) (10000, 10)\n"
          ],
          "name": "stdout"
        }
      ]
    },
    {
      "cell_type": "markdown",
      "metadata": {
        "id": "KHW_z53c3cUX"
      },
      "source": [
        "Run the code below, if your model is correct, there should be no errors.\n",
        "\n",
        "How are we using cross validation in this example?\n",
        "You can increase the number of folds, but training might take some time\n"
      ]
    },
    {
      "cell_type": "code",
      "metadata": {
        "id": "rCX8mp8z3cwP",
        "outputId": "fcd0637c-72c5-4068-bcc0-13cc8008a32d",
        "colab": {
          "base_uri": "https://localhost:8080/"
        }
      },
      "source": [
        "n_folds = 2\n",
        "scores, histories = list(), list()\n",
        "# prepare cross validation\n",
        "kfold = KFold(n_folds, shuffle=True, random_state=1)\n",
        "# enumerate splits\n",
        "for train_ix, test_ix in kfold.split(trainX):\n",
        "  # define model\n",
        "  model = define_model()\n",
        "  # select rows for train and test\n",
        "  trainX_cross, trainY_cross, testX_cross, testY_cross = trainX[train_ix], trainY[train_ix], trainX[test_ix], trainY[test_ix]\n",
        "  # fit model\n",
        "  history = model.fit(trainX_cross, trainY_cross, epochs=6, batch_size=32, validation_data=(testX_cross, testY_cross), verbose=1)\n",
        "  # evaluate model\n",
        "  _, acc = model.evaluate(testX_cross, testY_cross, verbose=0)\n",
        "  print('> %.3f' % (acc * 100.0))\n",
        "  # stores scores\n",
        "  scores.append(acc)\n",
        "  histories.append(history)"
      ],
      "execution_count": 61,
      "outputs": [
        {
          "output_type": "stream",
          "text": [
            "Epoch 1/6\n",
            "938/938 [==============================] - 15s 16ms/step - loss: 0.5734 - accuracy: 0.8406 - val_loss: 0.1599 - val_accuracy: 0.9536\n",
            "Epoch 2/6\n",
            "938/938 [==============================] - 14s 15ms/step - loss: 0.1263 - accuracy: 0.9633 - val_loss: 0.1091 - val_accuracy: 0.9680\n",
            "Epoch 3/6\n",
            "938/938 [==============================] - 14s 15ms/step - loss: 0.0801 - accuracy: 0.9763 - val_loss: 0.0834 - val_accuracy: 0.9760\n",
            "Epoch 4/6\n",
            "938/938 [==============================] - 14s 15ms/step - loss: 0.0614 - accuracy: 0.9819 - val_loss: 0.0805 - val_accuracy: 0.9767\n",
            "Epoch 5/6\n",
            "938/938 [==============================] - 14s 15ms/step - loss: 0.0507 - accuracy: 0.9855 - val_loss: 0.0718 - val_accuracy: 0.9784\n",
            "Epoch 6/6\n",
            "938/938 [==============================] - 14s 15ms/step - loss: 0.0392 - accuracy: 0.9887 - val_loss: 0.0681 - val_accuracy: 0.9800\n",
            "> 98.003\n",
            "Epoch 1/6\n",
            "938/938 [==============================] - 15s 16ms/step - loss: 0.6168 - accuracy: 0.8200 - val_loss: 0.1438 - val_accuracy: 0.9580\n",
            "Epoch 2/6\n",
            "938/938 [==============================] - 14s 15ms/step - loss: 0.1194 - accuracy: 0.9664 - val_loss: 0.1007 - val_accuracy: 0.9714\n",
            "Epoch 3/6\n",
            "938/938 [==============================] - 14s 15ms/step - loss: 0.0816 - accuracy: 0.9777 - val_loss: 0.0790 - val_accuracy: 0.9763\n",
            "Epoch 4/6\n",
            "938/938 [==============================] - 14s 15ms/step - loss: 0.0674 - accuracy: 0.9796 - val_loss: 0.0691 - val_accuracy: 0.9794\n",
            "Epoch 5/6\n",
            "938/938 [==============================] - 14s 15ms/step - loss: 0.0544 - accuracy: 0.9832 - val_loss: 0.0647 - val_accuracy: 0.9806\n",
            "Epoch 6/6\n",
            "938/938 [==============================] - 15s 16ms/step - loss: 0.0429 - accuracy: 0.9863 - val_loss: 0.0656 - val_accuracy: 0.9800\n",
            "> 98.000\n"
          ],
          "name": "stdout"
        }
      ]
    },
    {
      "cell_type": "markdown",
      "metadata": {
        "id": "S05R8qim3h7L"
      },
      "source": [
        "How do you interprete these images?"
      ]
    },
    {
      "cell_type": "code",
      "metadata": {
        "id": "t2dU1Jfk3iWI",
        "outputId": "902cc099-76a7-4bec-d9dd-2e2b2bf16261",
        "colab": {
          "base_uri": "https://localhost:8080/",
          "height": 374
        }
      },
      "source": [
        "for i in range(len(histories)):\n",
        "  # plot loss\n",
        "  pyplot.subplot(2, 1, 1)\n",
        "  pyplot.title('Cross Entropy Loss')\n",
        "  pyplot.plot(histories[i].history['loss'], color='blue', label='train')\n",
        "  pyplot.plot(histories[i].history['val_loss'], color='orange', label='test')\n",
        "  # plot accuracy\n",
        "  pyplot.subplot(2, 1, 2)\n",
        "  pyplot.title('Classification Accuracy')\n",
        "  pyplot.plot(histories[i].history['accuracy'], color='blue', label='train')\n",
        "  pyplot.plot(histories[i].history['val_accuracy'], color='orange', label='test')\n",
        "pyplot.show()"
      ],
      "execution_count": 62,
      "outputs": [
        {
          "output_type": "stream",
          "text": [
            "/usr/local/lib/python3.7/dist-packages/ipykernel_launcher.py:3: MatplotlibDeprecationWarning: Adding an axes using the same arguments as a previous axes currently reuses the earlier instance.  In a future version, a new instance will always be created and returned.  Meanwhile, this warning can be suppressed, and the future behavior ensured, by passing a unique label to each axes instance.\n",
            "  This is separate from the ipykernel package so we can avoid doing imports until\n",
            "/usr/local/lib/python3.7/dist-packages/ipykernel_launcher.py:8: MatplotlibDeprecationWarning: Adding an axes using the same arguments as a previous axes currently reuses the earlier instance.  In a future version, a new instance will always be created and returned.  Meanwhile, this warning can be suppressed, and the future behavior ensured, by passing a unique label to each axes instance.\n",
            "  \n"
          ],
          "name": "stderr"
        },
        {
          "output_type": "display_data",
          "data": {
            "image/png": "[encoded data removed]",
            "text/plain": [
              "<Figure size 432x288 with 2 Axes>"
            ]
          },
          "metadata": {
            "tags": [],
            "needs_background": "light"
          }
        }
      ]
    },
    {
      "cell_type": "code",
      "metadata": {
        "id": "hrR7O9Vt3m5U",
        "outputId": "3ef44f2d-e49f-442e-cfae-fd7b2b1e4788",
        "colab": {
          "base_uri": "https://localhost:8080/",
          "height": 294
        }
      },
      "source": [
        "# print summary\n",
        "print('Accuracy: mean=%.3f std=%.3f, n=%d' % (mean(scores)*100, std(scores)*100, len(scores)))\n",
        "# box and whisker plots of results\n",
        "pyplot.boxplot(scores)\n",
        "pyplot.show()"
      ],
      "execution_count": 63,
      "outputs": [
        {
          "output_type": "stream",
          "text": [
            "Accuracy: mean=98.002 std=0.002, n=2\n"
          ],
          "name": "stdout"
        },
        {
          "output_type": "display_data",
          "data": {
            "image/png": "[encoded data removed]",
            "text/plain": [
              "<Figure size 432x288 with 1 Axes>"
            ]
          },
          "metadata": {
            "tags": [],
            "needs_background": "light"
          }
        }
      ]
    }
  ]
}